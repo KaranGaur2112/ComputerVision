{
 "cells": [
  {
   "cell_type": "code",
   "execution_count": 7,
   "id": "1194e3da-0b0c-4d0e-90f3-d24c4cfd9901",
   "metadata": {
    "scrolled": true
   },
   "outputs": [],
   "source": [
    "import cv2\n",
    "import numpy as np\n",
    "\n",
    "def stabilize_video(input_video, template_region, output_video): \n",
    "    cap = cv2.VideoCapture(input_video)\n",
    "    template = cv2.imread(template_region, 0)\n",
    "    template_height, template_width = template.shape\n",
    "\n",
    "    # Define the output codec and create VideoWriter object \n",
    "    fourcc = cv2.VideoWriter_fourcc(*'XVID') \n",
    "    out = cv2.VideoWriter(output_video, fourcc, 30.0, (template_width, template_height))\n",
    "\n",
    "    # Read the first frame\n",
    "    ret, prev_frame = cap.read()\n",
    "    prev_gray = cv2.cvtColor(prev_frame, cv2.COLOR_BGR2GRAY)\n",
    "\n",
    "    while True:\n",
    "        ret, frame = cap.read()\n",
    "        if not ret:\n",
    "            break\n",
    "\n",
    "        # Convert frame to grayscale \n",
    "        gray = cv2.cvtColor(frame, cv2.COLOR_BGR2GRAY)\n",
    "\n",
    "        # Perform template matching\n",
    "        result = cv2.matchTemplate(gray, template, cv2.TM_CCOEFF_NORMED)\n",
    "        min_val, max_val, min_loc, max_loc = cv2.minMaxLoc(result) \n",
    "        top_left = max_loc\n",
    "        bottom_right = (top_left[0] + template_width, top_left[1] + template_height)\n",
    "\n",
    "        # Calculate the motion vector\n",
    "        motion_vector = (top_left[0] - template_width // 2, top_left[1] - template_height // 2)\n",
    "\n",
    "        # Correct the frame using the motion vector\n",
    "        stabilized_frame = np.roll(frame, motion_vector, axis=(0, 1))\n",
    "\n",
    "        # Write the stabilized frame to the output video\n",
    "        out.write(stabilized_frame)\n",
    "\n",
    "    cap.release()\n",
    "    out.release()\n",
    "    cv2.destroyAllWindows()\n",
    "\n",
    "# Example usage\n",
    "stabilize_video('input_video.mp4', 'template.png', 'stabilized_video.avi')\n"
   ]
  },
  {
   "cell_type": "code",
   "execution_count": null,
   "id": "fdd222a0-14f1-48ef-82b6-49db59d41e05",
   "metadata": {},
   "outputs": [],
   "source": []
  }
 ],
 "metadata": {
  "kernelspec": {
   "display_name": "Python 3 (ipykernel)",
   "language": "python",
   "name": "python3"
  },
  "language_info": {
   "codemirror_mode": {
    "name": "ipython",
    "version": 3
   },
   "file_extension": ".py",
   "mimetype": "text/x-python",
   "name": "python",
   "nbconvert_exporter": "python",
   "pygments_lexer": "ipython3",
   "version": "3.10.2"
  }
 },
 "nbformat": 4,
 "nbformat_minor": 5
}
